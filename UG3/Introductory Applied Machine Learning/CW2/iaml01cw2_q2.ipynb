{
 "cells": [
  {
   "cell_type": "code",
   "execution_count": 1,
   "metadata": {},
   "outputs": [
    {
     "name": "stdout",
     "output_type": "stream",
     "text": [
      "importing Jupyter notebook from iaml01cw2_helpers.ipynb\n"
     ]
    },
    {
     "name": "stderr",
     "output_type": "stream",
     "text": [
      "C:\\Users\\wotja\\miniconda3\\envs\\py3iaml\\lib\\site-packages\\sklearn\\utils\\__init__.py:4: DeprecationWarning: Using or importing the ABCs from 'collections' instead of from 'collections.abc' is deprecated since Python 3.3,and in 3.9 it will stop working\n",
      "  from collections import Sequence\n"
     ]
    }
   ],
   "source": [
    "import os\n",
    "import numpy as np\n",
    "import scipy\n",
    "import pandas as pd\n",
    "import math\n",
    "import matplotlib.pyplot as plt\n",
    "import seaborn as sns\n",
    "import import_ipynb\n",
    "from iaml01cw2_helpers import *\n",
    "from sklearn.linear_model import LogisticRegression\n",
    "from sklearn.decomposition import PCA\n",
    "from sklearn.metrics import accuracy_score, confusion_matrix\n",
    "from sklearn.model_selection import cross_val_score\n",
    "from sklearn.svm import SVC"
   ]
  },
  {
   "cell_type": "code",
   "execution_count": 2,
   "metadata": {},
   "outputs": [],
   "source": [
    "#--- Code for loading the data set and pre-processing --->\n",
    "#load data\n",
    "DataPath = os.path.join(os.getcwd(), 'data')\n",
    "Xtrn, Ytrn, Xtst, Ytst = load_FashionMNIST(DataPath)\n",
    "\n",
    "#Step 1 Make a back up of Xtrn and Xtst by copying Xtrn to Xtrn_orig and Xtst to Xtst_orig\n",
    "Xtrn_orig = Xtrn.copy() #or deepcopy?\n",
    "Xtst_orig = Xtst.copy()\n",
    "\n",
    "#Step 2 Divide each element of Xtrn and Xtst by 255.0. (NB: Xtrn and Xtst are overwritten as a result.)\n",
    "Xtrn = np.divide(Xtrn,255)\n",
    "Xtst = np.divide(Xtst,255)\n",
    "#Xtrn = Xtrn/255\n",
    "\n",
    "\n",
    "#Step 3 Calculate the mean value of Xtrn for each dimension (i.e. column) and store the\n",
    "#result in a vector, Xmean, whose shape is (784,).\n",
    "Xmean = np.mean(Xtrn, axis=0)\n",
    "#Xmean.shape\n",
    "\n",
    "#Step 4 Subtract Xmean from each row of Xtrn and Xtst, and store the result in Xtrn_nm\n",
    "#and Xtst_nm, respectively.\n",
    "Xtrn_nm = Xtrn - Xmean\n",
    "Xtst_nm = Xtst - Xmean"
   ]
  },
  {
   "cell_type": "code",
   "execution_count": 3,
   "metadata": {},
   "outputs": [
    {
     "name": "stdout",
     "output_type": "stream",
     "text": [
      "Classification accuracy on test set: 0.840\n",
      "Predicted    0    1    2    3    4    5    6    7    8    9\n",
      "Actual                                                     \n",
      "0          819    3   15   50    7    4   90    1   11    0\n",
      "1            5  953    4   27    5    0    3    1    2    0\n",
      "2           27    4  731   11  133    0   82    2    9    1\n",
      "3           31   15   14  866   33    0   37    0    4    0\n",
      "4            0    3  115   38  760    2   72    0   10    0\n",
      "5            2    0    0    1    0  911    0   56   10   20\n",
      "6          147    3  128   46  108    0  539    0   28    1\n",
      "7            0    0    0    0    0   32    0  936    1   31\n",
      "8            7    1    6   11    3    7   15    5  945    0\n",
      "9            0    0    0    1    0   15    1   42    0  941\n"
     ]
    }
   ],
   "source": [
    "# Q2.1\n",
    "def iaml01cw2_q2_1():\n",
    "    #Xsmall_trn = Xtrn_nm[:2000,:] #######change to whole set later\n",
    "    #Xsmall_tst = Xtst_nm[:2000,:] \n",
    "    #Ysmall_trn = Ytrn[:2000]\n",
    "    #Ysmall_tst = Ytst[:2000]  \n",
    "\n",
    "    clf = LogisticRegression().fit(Xtrn_nm, Ytrn) #fit to train data\n",
    "    predtst = clf.predict(Xtst_nm) #see how it predicts tst data\n",
    "    print('Classification accuracy on test set: {:.3f}'.format(accuracy_score(Ytst,predtst)))\n",
    "    \n",
    "    #now using predicted labels and true labels generate conf mat\n",
    "    data = {'y_Actual': Ytst,\n",
    "        'y_Predicted': predtst\n",
    "        }\n",
    "\n",
    "    df = pd.DataFrame(data, columns=['y_Actual','y_Predicted'])\n",
    "    confM = pd.crosstab(df['y_Actual'], df['y_Predicted'], rownames=['Actual'], colnames=['Predicted'])\n",
    "    print (confM)\n",
    "    \n",
    "iaml01cw2_q2_1()   # comment this out when you run the function"
   ]
  },
  {
   "cell_type": "code",
   "execution_count": 4,
   "metadata": {},
   "outputs": [
    {
     "name": "stdout",
     "output_type": "stream",
     "text": [
      "Classification accuracy on test set: 0.846\n",
      "Predicted    0    1    2    3    4    5    6    7    8    9\n",
      "Actual                                                     \n",
      "0          845    2    8   51    4    4   72    0   14    0\n",
      "1            4  951    7   31    5    0    1    0    1    0\n",
      "2           15    2  748   11  137    0   79    0    8    0\n",
      "3           32    6   12  881   26    0   40    0    3    0\n",
      "4            1    0   98   36  775    0   86    0    4    0\n",
      "5            0    0    0    1    0  914    0   57    2   26\n",
      "6          185    1  122   39   95    0  533    0   25    0\n",
      "7            0    0    0    0    0   34    0  925    0   41\n",
      "8            3    1    8    5    2    4   13    4  959    1\n",
      "9            0    0    0    0    0   22    0   47    1  930\n"
     ]
    }
   ],
   "source": [
    "# Q2.2\n",
    "def iaml01cw2_q2_2():\n",
    "    #Xtrn_nm1 = Xtrn_nm[:3000,:]\n",
    "    #Ytrn1 = Ytrn[:3000]\n",
    "    #Xtst_nm1 = Xtst_nm[:3000,:]\n",
    "    #Ytst1 = Ytst[:3000]\n",
    "    \n",
    "    svm = SVC().fit(Xtrn_nm, Ytrn) #fit to training data\n",
    "    predSVMtst = svm.predict(Xtst_nm) #see how it predicts tst data\n",
    "    print('Classification accuracy on test set: {:.3f}'.format(accuracy_score(Ytst,predSVMtst)))\n",
    "    \n",
    "    #generate conf mat\n",
    "    data = {'y_Actual': Ytst,\n",
    "        'y_Predicted': predSVMtst\n",
    "        }\n",
    "\n",
    "    df = pd.DataFrame(data, columns=['y_Actual','y_Predicted'])\n",
    "\n",
    "    confM = pd.crosstab(df['y_Actual'], df['y_Predicted'], rownames=['Actual'], colnames=['Predicted'])\n",
    "    print (confM)\n",
    "iaml01cw2_q2_2()   # comment this out when you run the function"
   ]
  },
  {
   "cell_type": "code",
   "execution_count": 5,
   "metadata": {},
   "outputs": [
    {
     "data": {
      "image/png": "[encoded data removed]",
      "text/plain": [
       "<Figure size 432x288 with 2 Axes>"
      ]
     },
     "metadata": {
      "needs_background": "light"
     },
     "output_type": "display_data"
    }
   ],
   "source": [
    "# Q2.3\n",
    "def iaml01cw2_q2_3():\n",
    "    #train model using logistic reg\n",
    "    lr = LogisticRegression() \n",
    "    lr.fit(Xtrn_nm, Ytrn)\n",
    "\n",
    "    #Find PC, var, std.dev\n",
    "    pca = PCA(n_components=2)\n",
    "    pca.fit(Xtrn_nm)\n",
    "    comp = pca.components_\n",
    "    var1 = pca.explained_variance_[0]\n",
    "    var2 = pca.explained_variance_[1]\n",
    "    sd1 = math.sqrt(var1)\n",
    "    sd2 = math.sqrt(var2)\n",
    "    \n",
    "    # make 2 100x100 grids, then combine them to form new grid\n",
    "    g1, g2 = np.mgrid[-5*sd1:5*sd1:0.101*sd1, -5*sd2:5*sd2:0.101*sd2]\n",
    "    grid = np.vstack((g1.ravel(), g2.ravel())).T\n",
    "    #print(g1.shape)\n",
    "    #print(grid.shape)\n",
    "\n",
    "    #project grid points onto new space\n",
    "    xgrid = np.dot(grid, comp)\n",
    "    preds = lr.predict(xgrid).reshape(g1.shape)\n",
    "    #print(np.unique(preds))# nvr predicts class 9\n",
    "\n",
    "    #plot decision regions\n",
    "    fig = plt.figure()\n",
    "    plt.title(\"Log Reg decision regions on a 2D space\")\n",
    "    plt.contourf(g1, g2, preds, cmap='coolwarm')\n",
    "    plt.xlabel('PC1')\n",
    "    plt.ylabel('PC2')\n",
    "    clb = plt.colorbar()\n",
    "    clb.ax.set_title('Class')\n",
    "\n",
    "    #set axis labels,scale\n",
    "    plt.xticks([-5*sd1, -4*sd1, -3*sd1, -2*sd1, -1*sd1, 0, sd1, 2*sd1, 3*sd1, 4*sd1, 5*sd1],\n",
    "           [\"$-5\\sigma_{1}$\", \"$-4\\sigma_{1}$\", \"$-3\\sigma_{1}$\", \"$-2\\sigma_{1}$\", \"$-\\sigma_{1}$\", \"0\", \"$\\sigma_{1}$\", \"$2\\sigma_{1}$\", \"$3\\sigma_{1}$\", \"$4\\sigma_{1}$\", \"$5\\sigma_{1}$\"])\n",
    "    plt.yticks([-5*sd2, -4*sd2, -3*sd2, -2*sd2, -1*sd2, 0, sd2, 2*sd2, 3*sd2, 4*sd2, 5*sd2],\n",
    "           [\"$-5\\sigma_{2}$\", \"$-4\\sigma_{2}$\", \"$-3\\sigma_{2}$\", \"$-2\\sigma_{2}$\", \"$-\\sigma_{2}$\", \"0\", \"$\\sigma_{2}$\", \"$2\\sigma_{2}$\", \"$3\\sigma_{2}$\", \"$4\\sigma_{2}$\", \"$5\\sigma_{2}$\"])\n",
    "\n",
    "    plt.show()\n",
    "iaml01cw2_q2_3()   # comment this out when you run the function"
   ]
  },
  {
   "cell_type": "code",
   "execution_count": 6,
   "metadata": {},
   "outputs": [
    {
     "name": "stdout",
     "output_type": "stream",
     "text": [
      "[0 1 2 3 4 5 6 7 8 9]\n"
     ]
    },
    {
     "data": {
      "image/png": "[encoded data removed]",
      "text/plain": [
       "<Figure size 432x288 with 2 Axes>"
      ]
     },
     "metadata": {
      "needs_background": "light"
     },
     "output_type": "display_data"
    }
   ],
   "source": [
    "# Q2.4\n",
    "def iaml01cw2_q2_4():\n",
    "    svm = SVC()\n",
    "    svm.fit(Xtrn_nm, Ytrn)\n",
    "\n",
    "    #Find PC and std.dev\n",
    "    pca = PCA(n_components=2)\n",
    "    pca.fit(Xtrn_nm)\n",
    "    comp = pca.components_\n",
    "    var1 = pca.explained_variance_[0]\n",
    "    var2 = pca.explained_variance_[1]\n",
    "    sd1 = math.sqrt(var1)\n",
    "    sd2 = math.sqrt(var2)\n",
    "    \n",
    "    # make 2 100x100 grids, then combine them to form new grid\n",
    "    g1, g2 = np.mgrid[-5*sd1:5*sd1:0.101*sd1, -5*sd2:5*sd2:0.101*sd2]\n",
    "    grid = np.vstack((g1.ravel(), g2.ravel())).T\n",
    "    #print(g1.shape)\n",
    "    #print(grid.shape)\n",
    "\n",
    "    #project grid points onto new space\n",
    "    xgrid = np.dot(grid, comp)\n",
    "    preds = svm.predict(xgrid).reshape(g1.shape)\n",
    "    #print(np.unique(preds))\n",
    "\n",
    "    #plot decision regions\n",
    "    fig = plt.figure()\n",
    "    plt.title(\"SVM decision regions on a 2D PCA space\")\n",
    "    plt.contourf(g1, g2, preds, cmap='coolwarm')\n",
    "    plt.xlabel('PC1')\n",
    "    plt.ylabel('PC2')\n",
    "    clb = plt.colorbar(ticks=np.unique(preds))\n",
    "    clb.ax.set_title('Class')\n",
    "\n",
    "    #set axis labels,scale\n",
    "    plt.xticks([-5*sd1, -4*sd1, -3*sd1, -2*sd1, -1*sd1, 0, sd1, 2*sd1, 3*sd1, 4*sd1, 5*sd1],\n",
    "            [\"$-5\\sigma_{1}$\", \"$-4\\sigma_{1}$\", \"$-3\\sigma_{1}$\", \"$-2\\sigma_{1}$\", \"$-\\sigma_{1}$\", \"0\", \"$\\sigma_{1}$\", \"$2\\sigma_{1}$\", \"$3\\sigma_{1}$\", \"$4\\sigma_{1}$\", \"$5\\sigma_{1}$\"])\n",
    "    plt.yticks([-5*sd2, -4*sd2, -3*sd2, -2*sd2, -1*sd2, 0, sd2, 2*sd2, 3*sd2, 4*sd2, 5*sd2],\n",
    "            [\"$-5\\sigma_{2}$\", \"$-4\\sigma_{2}$\", \"$-3\\sigma_{2}$\", \"$-2\\sigma_{2}$\", \"$-\\sigma_{2}$\", \"0\", \"$\\sigma_{2}$\", \"$2\\sigma_{2}$\", \"$3\\sigma_{2}$\", \"$4\\sigma_{2}$\", \"$5\\sigma_{2}$\"])\n",
    "\n",
    "    plt.show()\n",
    "iaml01cw2_q2_4()   # comment this out when you run the function"
   ]
  },
  {
   "cell_type": "code",
   "execution_count": 7,
   "metadata": {},
   "outputs": [
    {
     "name": "stdout",
     "output_type": "stream",
     "text": [
      "Mean accuracy 0.648 with C: 0.01\n",
      "Mean accuracy 0.691 with C: 0.03593813663804628\n",
      "Mean accuracy 0.737 with C: 0.1291549665014884\n",
      "Mean accuracy 0.784 with C: 0.464158883361278\n",
      "Mean accuracy 0.820 with C: 1.6681005372000592\n",
      "Mean accuracy 0.845 with C: 5.994842503189409\n",
      "Mean accuracy 0.857 with C: 21.544346900318846\n",
      "Mean accuracy 0.854 with C: 77.42636826811278\n",
      "Mean accuracy 0.850 with C: 278.2559402207126\n",
      "Mean accuracy 0.841 with C: 1000.0\n"
     ]
    },
    {
     "data": {
      "image/png": "[encoded data removed]",
      "text/plain": [
       "<Figure size 432x288 with 1 Axes>"
      ]
     },
     "metadata": {
      "needs_background": "light"
     },
     "output_type": "display_data"
    }
   ],
   "source": [
    "# Q2.5\n",
    "def iaml01cw2_q2_5():\n",
    "    #first 1000 samples from each class\n",
    "    Xsmall = []\n",
    "    Ysmall = []\n",
    "    for i in range(10):\n",
    "        idx = 0\n",
    "        cc = 0\n",
    "        while (cc < 1000): #change to 1000\n",
    "            if (Ytrn[idx] == i):\n",
    "                Xsmall.append(Xtrn_nm[idx])\n",
    "                Ysmall.append(i)\n",
    "                cc += 1\n",
    "            idx += 1\n",
    "        #print(len(Ysmall))\n",
    "        \n",
    "    Cs = np.logspace(-2,3,10)#change to 10\n",
    "    means= []\n",
    "    for c in Cs:\n",
    "        svm = SVC(kernel ='rbf',gamma='auto', C=c) #fit to training data\n",
    "        acc = cross_val_score(svm, Xsmall, Ysmall, cv=3) #no Ysmall here\n",
    "        means.append(np.mean(acc))\n",
    "        print('Mean accuracy {:.3f} with C: {}'.format(np.mean(acc), c))\n",
    "    plt.plot(Cs, means)\n",
    "    plt.title('C vs Cross Val Score after 3-Fold Cross Val')\n",
    "    plt.xlabel('C (Penalty Parameter)')\n",
    "    plt.ylabel('Cross Validation Score')\n",
    "    plt.xscale('log')\n",
    "        \n",
    "iaml01cw2_q2_5()   # comment this out when you run the function"
   ]
  },
  {
   "cell_type": "code",
   "execution_count": 3,
   "metadata": {},
   "outputs": [
    {
     "name": "stdout",
     "output_type": "stream",
     "text": [
      "Training classification accuracy: 0.908\n",
      "Testing classification accuracy: 0.876\n"
     ]
    }
   ],
   "source": [
    "# Q2.6 \n",
    "def iaml01cw2_q2_6():\n",
    "    svm = SVC(C=21.544)\n",
    "    svm.fit(Xtrn_nm, Ytrn)\n",
    "    trainAcc = svm.score(Xtrn_nm, Ytrn) \n",
    "    testAcc  = svm.score(Xtst_nm, Ytst)\n",
    "    print(\"Training classification accuracy: {:.3f}\".format(trainAcc))\n",
    "    print(\"Testing classification accuracy: {:.3f}\".format(testAcc))\n",
    "\n",
    "iaml01cw2_q2_6()   # comment this out when you run the function"
   ]
  },
  {
   "cell_type": "code",
   "execution_count": null,
   "metadata": {},
   "outputs": [],
   "source": []
  }
 ],
 "metadata": {
  "anaconda-cloud": {},
  "kernelspec": {
   "display_name": "Python 3",
   "language": "python",
   "name": "python3"
  },
  "language_info": {
   "codemirror_mode": {
    "name": "ipython",
    "version": 3
   },
   "file_extension": ".py",
   "mimetype": "text/x-python",
   "name": "python",
   "nbconvert_exporter": "python",
   "pygments_lexer": "ipython3",
   "version": "3.7.9"
  }
 },
 "nbformat": 4,
 "nbformat_minor": 4
}

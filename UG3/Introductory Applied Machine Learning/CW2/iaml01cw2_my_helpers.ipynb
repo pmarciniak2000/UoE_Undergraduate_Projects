{
 "cells": [
  {
   "cell_type": "code",
   "execution_count": null,
   "metadata": {},
   "outputs": [],
   "source": [
    "##########################################################\n",
    "#  Python module template for helper functions of your own (IAML Level 10)\n",
    "#  Note that:\n",
    "#  - Those helper functions of your own for Questions 1, 2, and 3 should be defined in this file.\n",
    "#  - You can decide function names by yourself.\n",
    "#  - You do not need to include this header in your submission\n",
    "##########################################################\n",
    "\n"
   ]
  }
 ],
 "metadata": {
  "anaconda-cloud": {},
  "kernelspec": {
   "display_name": "Python 3",
   "language": "python",
   "name": "python3"
  },
  "language_info": {
   "codemirror_mode": {
    "name": "ipython",
    "version": 3
   },
   "file_extension": ".py",
   "mimetype": "text/x-python",
   "name": "python",
   "nbconvert_exporter": "python",
   "pygments_lexer": "ipython3",
   "version": "3.7.9"
  }
 },
 "nbformat": 4,
 "nbformat_minor": 4
}

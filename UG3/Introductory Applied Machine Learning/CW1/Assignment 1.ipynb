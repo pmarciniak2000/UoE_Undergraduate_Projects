{
 "cells": [
  {
   "cell_type": "code",
   "execution_count": 46,
   "metadata": {},
   "outputs": [],
   "source": [
    "# Import packages\n",
    "import os\n",
    "import numpy as np \n",
    "import pandas as pd\n",
    "import matplotlib.pyplot as plt\n",
    "import seaborn as sns\n",
    "import graphviz\n",
    "from sklearn.model_selection import train_test_split\n",
    "from sklearn.preprocessing import PolynomialFeatures\n",
    "from sklearn.linear_model import LinearRegression\n",
    "from sklearn.tree import DecisionTreeClassifier, export_graphviz\n",
    "from sklearn.ensemble import RandomForestClassifier\n",
    "from sklearn.metrics import accuracy_score, confusion_matrix, r2_score, mean_squared_error\n",
    "%matplotlib inline"
   ]
  },
  {
   "cell_type": "code",
   "execution_count": 47,
   "metadata": {},
   "outputs": [
    {
     "data": {
      "text/plain": [
       "revision_time    float64\n",
       "exam_score       float64\n",
       "dtype: object"
      ]
     },
     "execution_count": 47,
     "metadata": {},
     "output_type": "execute_result"
    }
   ],
   "source": [
    "# Load the dataset\n",
    "data_path = os.path.join(os.getcwd(), 'data', 'regression_part1.csv')\n",
    "exam = pd.read_csv(data_path, delimiter = ',')\n",
    "exam.head(10)\n",
    "exam.dtypes"
   ]
  },
  {
   "cell_type": "code",
   "execution_count": 48,
   "metadata": {},
   "outputs": [
    {
     "name": "stdout",
     "output_type": "stream",
     "text": [
      "Number of samples: 50, number of attributes: 2\n",
      "revision_time    48.011\n",
      "exam_score       94.945\n",
      "dtype: float64\n",
      "revision_time     2.723\n",
      "exam_score       14.731\n",
      "dtype: float64\n"
     ]
    }
   ],
   "source": [
    "#1a.\n",
    "#Look at data\n",
    "print('Number of samples: {}, number of attributes: {}'.format(exam.shape[0], exam.shape[1]))\n",
    "#exam.describe()\n",
    "print(exam.max(0))\n",
    "print(exam.min(0))"
   ]
  },
  {
   "cell_type": "code",
   "execution_count": 49,
   "metadata": {},
   "outputs": [
    {
     "data": {
      "text/plain": [
       "80.214"
      ]
     },
     "execution_count": 49,
     "metadata": {},
     "output_type": "execute_result"
    }
   ],
   "source": [
    "94.945 - 14.731"
   ]
  },
  {
   "cell_type": "code",
   "execution_count": 50,
   "metadata": {},
   "outputs": [
    {
     "name": "stdout",
     "output_type": "stream",
     "text": [
      "(50, 2)\n",
      "[[ 1.     2.723]\n",
      " [ 1.     2.844]\n",
      " [ 1.     3.303]\n",
      " [ 1.     3.588]\n",
      " [ 1.     4.05 ]\n",
      " [ 1.     4.08 ]\n",
      " [ 1.     5.674]\n",
      " [ 1.     6.06 ]\n",
      " [ 1.     6.347]\n",
      " [ 1.     6.819]\n",
      " [ 1.     7.098]\n",
      " [ 1.     7.515]\n",
      " [ 1.     8.356]\n",
      " [ 1.     9.214]\n",
      " [ 1.    10.364]\n",
      " [ 1.    10.51 ]\n",
      " [ 1.    12.102]\n",
      " [ 1.    13.187]\n",
      " [ 1.    16.692]\n",
      " [ 1.    16.977]\n",
      " [ 1.    18.33 ]\n",
      " [ 1.    19.599]\n",
      " [ 1.    20.321]\n",
      " [ 1.    21.28 ]\n",
      " [ 1.    21.578]\n",
      " [ 1.    21.798]\n",
      " [ 1.    22.048]\n",
      " [ 1.    24.949]\n",
      " [ 1.    25.147]\n",
      " [ 1.    26.495]\n",
      " [ 1.    26.535]\n",
      " [ 1.    28.687]\n",
      " [ 1.    29.055]\n",
      " [ 1.    31.043]\n",
      " [ 1.    32.176]\n",
      " [ 1.    32.203]\n",
      " [ 1.    32.226]\n",
      " [ 1.    32.268]\n",
      " [ 1.    32.711]\n",
      " [ 1.    32.886]\n",
      " [ 1.    34.489]\n",
      " [ 1.    34.889]\n",
      " [ 1.    37.299]\n",
      " [ 1.    40.875]\n",
      " [ 1.    41.249]\n",
      " [ 1.    45.213]\n",
      " [ 1.    45.397]\n",
      " [ 1.    46.923]\n",
      " [ 1.    47.818]\n",
      " [ 1.    48.011]]\n"
     ]
    },
    {
     "name": "stderr",
     "output_type": "stream",
     "text": [
      "C:\\Users\\wotja\\miniconda3\\envs\\py3iaml\\lib\\site-packages\\ipykernel_launcher.py:2: FutureWarning: Method .as_matrix will be removed in a future version. Use .values instead.\n",
      "  \n",
      "C:\\Users\\wotja\\miniconda3\\envs\\py3iaml\\lib\\site-packages\\ipykernel_launcher.py:3: FutureWarning: Method .as_matrix will be removed in a future version. Use .values instead.\n",
      "  This is separate from the ipykernel package so we can avoid doing imports until\n"
     ]
    }
   ],
   "source": [
    "#1b.\n",
    "x = exam['revision_time'].as_matrix().reshape(-1,1)\n",
    "y = exam['exam_score'].as_matrix()\n",
    "#a = np.ones((50))\n",
    "#b = (a,x)\n",
    "#X = np.column_stack(b) #returns 2,50 array but without the reshape part\n",
    "X = np.hstack((np.ones((50,1)), x))\n",
    "print(X.shape)\n",
    "print(X)\n"
   ]
  },
  {
   "cell_type": "code",
   "execution_count": 51,
   "metadata": {},
   "outputs": [
    {
     "name": "stdout",
     "output_type": "stream",
     "text": [
      "Training accuracy: 0.928\n",
      "[17.89768026  1.44114091]\n",
      "0.0\n"
     ]
    }
   ],
   "source": [
    "#1b.\n",
    "lr = LinearRegression(fit_intercept=False, copy_X=True)\n",
    "lr.fit(X, y)\n",
    "print('Training accuracy: {:.3f}'.format(lr.score(X, y)))\n",
    "print(lr.coef_)\n",
    "print(lr.intercept_)\n",
    "# y = 1.44114091x + 17.89768026?\n"
   ]
  },
  {
   "cell_type": "code",
   "execution_count": 52,
   "metadata": {},
   "outputs": [
    {
     "data": {
      "text/plain": [
       "<matplotlib.legend.Legend at 0x157cad99948>"
      ]
     },
     "execution_count": 52,
     "metadata": {},
     "output_type": "execute_result"
    },
    {
     "data": {
      "image/png": "[encoded data removed]",
      "text/plain": [
       "<Figure size 432x288 with 1 Axes>"
      ]
     },
     "metadata": {
      "needs_background": "light"
     },
     "output_type": "display_data"
    }
   ],
   "source": [
    "#1c.\n",
    "plt.title('Linear Regression Model')\n",
    "plt.scatter(x, y,s=20, color='k', label='Input Data')\n",
    "plt.xlabel('Revision Time(hours)')\n",
    "plt.ylabel('Exam Score(%)')\n",
    "plt.plot(x, lr.predict(X), label='Predicted Model')\n",
    "plt.legend()\n"
   ]
  },
  {
   "cell_type": "code",
   "execution_count": 53,
   "metadata": {},
   "outputs": [
    {
     "name": "stdout",
     "output_type": "stream",
     "text": [
      "[17.89768026  1.44114091]\n"
     ]
    }
   ],
   "source": [
    "#1d.\n",
    "X_t = np.transpose(X)\n",
    "para = (np.dot(np.linalg.inv(np.dot(X_t, X)), np.dot(X_t, y)))\n",
    "Y = para[1]*x+para[0]\n",
    "print(para)\n",
    "#plt.title('Closed form solution model')\n",
    "#plt.scatter(x, y, label='Actual points')\n",
    "#plt.xlabel('Revision Time')\n",
    "#plt.ylabel('Exam Score')\n",
    "#plt.plot(x, Y,color='k') #is this right way to display fitted linear model?\n"
   ]
  },
  {
   "cell_type": "code",
   "execution_count": 54,
   "metadata": {},
   "outputs": [
    {
     "name": "stdout",
     "output_type": "stream",
     "text": [
      "30.9854726145413\n",
      "30.985472614541287\n"
     ]
    }
   ],
   "source": [
    "#1f.\n",
    "MSE1 = mean_squared_error(y, lr.predict(X))\n",
    "MSE2 = mean_squared_error(y, Y)\n",
    "print(MSE1)\n",
    "print(MSE2)"
   ]
  },
  {
   "cell_type": "code",
   "execution_count": 58,
   "metadata": {},
   "outputs": [
    {
     "data": {
      "image/png": "[encoded data removed]",
      "text/plain": [
       "<Figure size 432x288 with 1 Axes>"
      ]
     },
     "metadata": {
      "needs_background": "light"
     },
     "output_type": "display_data"
    }
   ],
   "source": [
    "#1g.\n",
    "w0 = 20 #y-intercept ?\n",
    "w1 = np.linspace(-2,2,40) #gradient?\n",
    "w = [w0,w1]\n",
    "for val in w1:\n",
    "    line = val*x+w[0]\n",
    "    plt.plot(x, line, color='k')\n",
    "    plt.title('Linear model for 40 values of w1 between(-2,2)')\n",
    "    plt.xlabel('Revision Time(hours)')\n",
    "    plt.ylabel('Exam Score(%)')\n",
    "    #MSE2 = mean_squared_error(y, line)\n",
    "    #print('{:.3f} & {:.2f} \\\\\\\\'.format(val, MSE2))"
   ]
  },
  {
   "cell_type": "markdown",
   "metadata": {},
   "source": [
    "# Question 2"
   ]
  },
  {
   "cell_type": "code",
   "execution_count": 59,
   "metadata": {},
   "outputs": [],
   "source": [
    "data_path2 = os.path.join(os.getcwd(), 'data', 'regression_part2.csv')\n",
    "nonL = pd.read_csv(data_path2, delimiter = ',')\n",
    "#nonL.head(10)\n",
    "#print('Number of samples: {}, number of attributes: {}'.format(nonL.shape[0], nonL.shape[1]))\n",
    "#exam.describe()"
   ]
  },
  {
   "cell_type": "code",
   "execution_count": 60,
   "metadata": {},
   "outputs": [
    {
     "name": "stderr",
     "output_type": "stream",
     "text": [
      "C:\\Users\\wotja\\miniconda3\\envs\\py3iaml\\lib\\site-packages\\ipykernel_launcher.py:1: FutureWarning: Method .as_matrix will be removed in a future version. Use .values instead.\n",
      "  \"\"\"Entry point for launching an IPython kernel.\n",
      "C:\\Users\\wotja\\miniconda3\\envs\\py3iaml\\lib\\site-packages\\ipykernel_launcher.py:2: FutureWarning: Method .as_matrix will be removed in a future version. Use .values instead.\n",
      "  \n"
     ]
    }
   ],
   "source": [
    "x = nonL['input'].as_matrix().reshape(-1, 1)\n",
    "y = nonL['output'].as_matrix().reshape(-1, 1)\n",
    "idx = np.unravel_index(np.argsort(x, axis=0), x.shape)\n",
    "x = x[idx]\n",
    "y = y[idx]\n",
    "#poly = PolynomialFeatures(2)\n",
    "#X = poly.fit_transform(x)\n"
   ]
  },
  {
   "cell_type": "code",
   "execution_count": 61,
   "metadata": {},
   "outputs": [
    {
     "data": {
      "image/png": "[encoded data removed]",
      "text/plain": [
       "<Figure size 432x288 with 1 Axes>"
      ]
     },
     "metadata": {
      "needs_background": "light"
     },
     "output_type": "display_data"
    }
   ],
   "source": [
    "#2a.\n",
    "plt.title('Polynomial Regression')\n",
    "plt.scatter(x, y, s=15, color='black', label='Actual points')\n",
    "plt.xlabel('input')\n",
    "plt.ylabel('output')\n",
    "for i in range(1, 5):\n",
    "    poly = PolynomialFeatures(i)\n",
    "    X = poly.fit_transform(x)\n",
    "    lr = LinearRegression(fit_intercept=False, copy_X=True)\n",
    "    lr.fit(X, y)\n",
    "    plt.plot(x, lr.predict(X), label='M = {}'.format(i))\n",
    "    plt.legend()\n",
    "    \n"
   ]
  },
  {
   "cell_type": "code",
   "execution_count": 62,
   "metadata": {},
   "outputs": [
    {
     "data": {
      "image/png": "[encoded data removed]",
      "text/plain": [
       "<Figure size 432x288 with 1 Axes>"
      ]
     },
     "metadata": {
      "needs_background": "light"
     },
     "output_type": "display_data"
    }
   ],
   "source": [
    "#2b.\n",
    "plt.title('MSE vs Polynomial degree')\n",
    "plt.xlabel('Polynomial Degree')\n",
    "plt.ylabel('MSE')\n",
    "for i in range(1, 5):\n",
    "    poly = PolynomialFeatures(i)\n",
    "    X = poly.fit_transform(x)\n",
    "    lr = LinearRegression(fit_intercept=False, copy_X=True)\n",
    "    lr.fit(X, y)\n",
    "    MSE = mean_squared_error(y, lr.predict(X))\n",
    "    plt.bar(i, MSE)\n",
    "    plt.xticks([1,2,3,4])\n"
   ]
  },
  {
   "cell_type": "code",
   "execution_count": 66,
   "metadata": {},
   "outputs": [
    {
     "data": {
      "image/png": "[encoded data removed]",
      "text/plain": [
       "<Figure size 432x288 with 1 Axes>"
      ]
     },
     "metadata": {
      "needs_background": "light"
     },
     "output_type": "display_data"
    }
   ],
   "source": [
    "#2d.\n",
    "from sklearn.svm import SVR\n",
    "from sklearn.preprocessing import StandardScaler\n",
    "sc_X = StandardScaler()\n",
    "sc_y = StandardScaler()\n",
    "X = sc_X.fit_transform(X)\n",
    "y = sc_y.fit_transform(y)\n",
    "\n",
    "plt.scatter(x, y, s=12, color='black', label='Actual points')\n",
    "alpha = [0.2,100,1000]\n",
    "for v in alpha:\n",
    "    svr_rbf = SVR(kernel='rbf', C=v)\n",
    "    svr_rbf.fit(X,y)\n",
    "    plt.title('RBF Regression')\n",
    "    plt.xlabel('input')\n",
    "    plt.ylabel('output')\n",
    "    plt.plot(x, svr_rbf.predict(X), label='alpha = {}'.format(v))\n",
    "    plt.legend()\n"
   ]
  },
  {
   "cell_type": "markdown",
   "metadata": {},
   "source": [
    "# Question 3"
   ]
  },
  {
   "cell_type": "code",
   "execution_count": 7,
   "metadata": {},
   "outputs": [
    {
     "name": "stdout",
     "output_type": "stream",
     "text": [
      "Number of  train samples: 4800, number of train attributes: 136\n",
      "Number of test samples: 1200, number of test attributes: 136\n"
     ]
    },
    {
     "data": {
      "text/html": [
       "<div>\n",
       "<style scoped>\n",
       "    .dataframe tbody tr th:only-of-type {\n",
       "        vertical-align: middle;\n",
       "    }\n",
       "\n",
       "    .dataframe tbody tr th {\n",
       "        vertical-align: top;\n",
       "    }\n",
       "\n",
       "    .dataframe thead th {\n",
       "        text-align: right;\n",
       "    }\n",
       "</style>\n",
       "<table border=\"1\" class=\"dataframe\">\n",
       "  <thead>\n",
       "    <tr style=\"text-align: right;\">\n",
       "      <th></th>\n",
       "      <th>x0</th>\n",
       "      <th>y0</th>\n",
       "      <th>x1</th>\n",
       "      <th>y1</th>\n",
       "      <th>x2</th>\n",
       "      <th>y2</th>\n",
       "      <th>x3</th>\n",
       "      <th>y3</th>\n",
       "      <th>x4</th>\n",
       "      <th>y4</th>\n",
       "      <th>...</th>\n",
       "      <th>y63</th>\n",
       "      <th>x64</th>\n",
       "      <th>y64</th>\n",
       "      <th>x65</th>\n",
       "      <th>y65</th>\n",
       "      <th>x66</th>\n",
       "      <th>y66</th>\n",
       "      <th>x67</th>\n",
       "      <th>y67</th>\n",
       "      <th>smiling</th>\n",
       "    </tr>\n",
       "  </thead>\n",
       "  <tbody>\n",
       "    <tr>\n",
       "      <th>count</th>\n",
       "      <td>4800.000000</td>\n",
       "      <td>4800.000000</td>\n",
       "      <td>4800.000000</td>\n",
       "      <td>4800.000000</td>\n",
       "      <td>4800.000000</td>\n",
       "      <td>4800.000000</td>\n",
       "      <td>4800.000000</td>\n",
       "      <td>4800.000000</td>\n",
       "      <td>4800.000000</td>\n",
       "      <td>4800.000000</td>\n",
       "      <td>...</td>\n",
       "      <td>4800.000000</td>\n",
       "      <td>4800.000000</td>\n",
       "      <td>4800.000000</td>\n",
       "      <td>4800.000000</td>\n",
       "      <td>4800.000000</td>\n",
       "      <td>4800.000000</td>\n",
       "      <td>4800.000000</td>\n",
       "      <td>4800.000000</td>\n",
       "      <td>4800.000000</td>\n",
       "      <td>4800.000000</td>\n",
       "    </tr>\n",
       "    <tr>\n",
       "      <th>mean</th>\n",
       "      <td>-1.931962</td>\n",
       "      <td>1.455752</td>\n",
       "      <td>-1.920338</td>\n",
       "      <td>1.004314</td>\n",
       "      <td>-1.858298</td>\n",
       "      <td>0.545549</td>\n",
       "      <td>-1.744761</td>\n",
       "      <td>0.089065</td>\n",
       "      <td>-1.550913</td>\n",
       "      <td>-0.333587</td>\n",
       "      <td>...</td>\n",
       "      <td>-0.111277</td>\n",
       "      <td>0.687324</td>\n",
       "      <td>-0.106768</td>\n",
       "      <td>0.223960</td>\n",
       "      <td>-0.263222</td>\n",
       "      <td>0.005834</td>\n",
       "      <td>-0.288294</td>\n",
       "      <td>-0.211278</td>\n",
       "      <td>-0.269045</td>\n",
       "      <td>0.486458</td>\n",
       "    </tr>\n",
       "    <tr>\n",
       "      <th>std</th>\n",
       "      <td>0.590181</td>\n",
       "      <td>0.402155</td>\n",
       "      <td>0.552056</td>\n",
       "      <td>0.380052</td>\n",
       "      <td>0.532371</td>\n",
       "      <td>0.361070</td>\n",
       "      <td>0.523245</td>\n",
       "      <td>0.343751</td>\n",
       "      <td>0.491355</td>\n",
       "      <td>0.321495</td>\n",
       "      <td>...</td>\n",
       "      <td>0.050815</td>\n",
       "      <td>0.209837</td>\n",
       "      <td>0.148709</td>\n",
       "      <td>0.086788</td>\n",
       "      <td>0.148332</td>\n",
       "      <td>0.073380</td>\n",
       "      <td>0.147636</td>\n",
       "      <td>0.083300</td>\n",
       "      <td>0.148305</td>\n",
       "      <td>0.499869</td>\n",
       "    </tr>\n",
       "    <tr>\n",
       "      <th>min</th>\n",
       "      <td>-3.979000</td>\n",
       "      <td>-2.111000</td>\n",
       "      <td>-3.872000</td>\n",
       "      <td>-2.054000</td>\n",
       "      <td>-3.737000</td>\n",
       "      <td>-1.940000</td>\n",
       "      <td>-3.468000</td>\n",
       "      <td>-2.180000</td>\n",
       "      <td>-3.071000</td>\n",
       "      <td>-2.345000</td>\n",
       "      <td>...</td>\n",
       "      <td>-0.319000</td>\n",
       "      <td>-0.441000</td>\n",
       "      <td>-0.897000</td>\n",
       "      <td>-0.448000</td>\n",
       "      <td>-1.142000</td>\n",
       "      <td>-0.597000</td>\n",
       "      <td>-1.162000</td>\n",
       "      <td>-0.746000</td>\n",
       "      <td>-1.154000</td>\n",
       "      <td>0.000000</td>\n",
       "    </tr>\n",
       "    <tr>\n",
       "      <th>25%</th>\n",
       "      <td>-2.241000</td>\n",
       "      <td>1.247750</td>\n",
       "      <td>-2.204000</td>\n",
       "      <td>0.812750</td>\n",
       "      <td>-2.142250</td>\n",
       "      <td>0.361750</td>\n",
       "      <td>-2.039250</td>\n",
       "      <td>-0.086000</td>\n",
       "      <td>-1.839000</td>\n",
       "      <td>-0.505000</td>\n",
       "      <td>...</td>\n",
       "      <td>-0.142000</td>\n",
       "      <td>0.582000</td>\n",
       "      <td>-0.191000</td>\n",
       "      <td>0.188000</td>\n",
       "      <td>-0.356000</td>\n",
       "      <td>-0.024000</td>\n",
       "      <td>-0.383000</td>\n",
       "      <td>-0.252000</td>\n",
       "      <td>-0.361000</td>\n",
       "      <td>0.000000</td>\n",
       "    </tr>\n",
       "    <tr>\n",
       "      <th>50%</th>\n",
       "      <td>-1.952000</td>\n",
       "      <td>1.456000</td>\n",
       "      <td>-1.931000</td>\n",
       "      <td>1.011000</td>\n",
       "      <td>-1.854000</td>\n",
       "      <td>0.561000</td>\n",
       "      <td>-1.751000</td>\n",
       "      <td>0.104000</td>\n",
       "      <td>-1.576500</td>\n",
       "      <td>-0.319000</td>\n",
       "      <td>...</td>\n",
       "      <td>-0.110000</td>\n",
       "      <td>0.701000</td>\n",
       "      <td>-0.102000</td>\n",
       "      <td>0.224000</td>\n",
       "      <td>-0.242000</td>\n",
       "      <td>0.000000</td>\n",
       "      <td>-0.266000</td>\n",
       "      <td>-0.213000</td>\n",
       "      <td>-0.247000</td>\n",
       "      <td>0.000000</td>\n",
       "    </tr>\n",
       "    <tr>\n",
       "      <th>75%</th>\n",
       "      <td>-1.628750</td>\n",
       "      <td>1.676000</td>\n",
       "      <td>-1.626000</td>\n",
       "      <td>1.212250</td>\n",
       "      <td>-1.557750</td>\n",
       "      <td>0.750000</td>\n",
       "      <td>-1.451000</td>\n",
       "      <td>0.285250</td>\n",
       "      <td>-1.276000</td>\n",
       "      <td>-0.141000</td>\n",
       "      <td>...</td>\n",
       "      <td>-0.078000</td>\n",
       "      <td>0.823250</td>\n",
       "      <td>-0.018000</td>\n",
       "      <td>0.266000</td>\n",
       "      <td>-0.147000</td>\n",
       "      <td>0.035250</td>\n",
       "      <td>-0.169000</td>\n",
       "      <td>-0.175000</td>\n",
       "      <td>-0.152000</td>\n",
       "      <td>1.000000</td>\n",
       "    </tr>\n",
       "    <tr>\n",
       "      <th>max</th>\n",
       "      <td>1.984000</td>\n",
       "      <td>3.461000</td>\n",
       "      <td>1.617000</td>\n",
       "      <td>3.132000</td>\n",
       "      <td>1.213000</td>\n",
       "      <td>2.747000</td>\n",
       "      <td>0.808000</td>\n",
       "      <td>2.473000</td>\n",
       "      <td>0.655000</td>\n",
       "      <td>2.296000</td>\n",
       "      <td>...</td>\n",
       "      <td>0.288000</td>\n",
       "      <td>1.387000</td>\n",
       "      <td>0.725000</td>\n",
       "      <td>0.725000</td>\n",
       "      <td>0.336000</td>\n",
       "      <td>0.544000</td>\n",
       "      <td>0.144000</td>\n",
       "      <td>0.369000</td>\n",
       "      <td>0.318000</td>\n",
       "      <td>1.000000</td>\n",
       "    </tr>\n",
       "  </tbody>\n",
       "</table>\n",
       "<p>8 rows × 137 columns</p>\n",
       "</div>"
      ],
      "text/plain": [
       "                x0           y0           x1           y1           x2  \\\n",
       "count  4800.000000  4800.000000  4800.000000  4800.000000  4800.000000   \n",
       "mean     -1.931962     1.455752    -1.920338     1.004314    -1.858298   \n",
       "std       0.590181     0.402155     0.552056     0.380052     0.532371   \n",
       "min      -3.979000    -2.111000    -3.872000    -2.054000    -3.737000   \n",
       "25%      -2.241000     1.247750    -2.204000     0.812750    -2.142250   \n",
       "50%      -1.952000     1.456000    -1.931000     1.011000    -1.854000   \n",
       "75%      -1.628750     1.676000    -1.626000     1.212250    -1.557750   \n",
       "max       1.984000     3.461000     1.617000     3.132000     1.213000   \n",
       "\n",
       "                y2           x3           y3           x4           y4  \\\n",
       "count  4800.000000  4800.000000  4800.000000  4800.000000  4800.000000   \n",
       "mean      0.545549    -1.744761     0.089065    -1.550913    -0.333587   \n",
       "std       0.361070     0.523245     0.343751     0.491355     0.321495   \n",
       "min      -1.940000    -3.468000    -2.180000    -3.071000    -2.345000   \n",
       "25%       0.361750    -2.039250    -0.086000    -1.839000    -0.505000   \n",
       "50%       0.561000    -1.751000     0.104000    -1.576500    -0.319000   \n",
       "75%       0.750000    -1.451000     0.285250    -1.276000    -0.141000   \n",
       "max       2.747000     0.808000     2.473000     0.655000     2.296000   \n",
       "\n",
       "          ...               y63          x64          y64          x65  \\\n",
       "count     ...       4800.000000  4800.000000  4800.000000  4800.000000   \n",
       "mean      ...         -0.111277     0.687324    -0.106768     0.223960   \n",
       "std       ...          0.050815     0.209837     0.148709     0.086788   \n",
       "min       ...         -0.319000    -0.441000    -0.897000    -0.448000   \n",
       "25%       ...         -0.142000     0.582000    -0.191000     0.188000   \n",
       "50%       ...         -0.110000     0.701000    -0.102000     0.224000   \n",
       "75%       ...         -0.078000     0.823250    -0.018000     0.266000   \n",
       "max       ...          0.288000     1.387000     0.725000     0.725000   \n",
       "\n",
       "               y65          x66          y66          x67          y67  \\\n",
       "count  4800.000000  4800.000000  4800.000000  4800.000000  4800.000000   \n",
       "mean     -0.263222     0.005834    -0.288294    -0.211278    -0.269045   \n",
       "std       0.148332     0.073380     0.147636     0.083300     0.148305   \n",
       "min      -1.142000    -0.597000    -1.162000    -0.746000    -1.154000   \n",
       "25%      -0.356000    -0.024000    -0.383000    -0.252000    -0.361000   \n",
       "50%      -0.242000     0.000000    -0.266000    -0.213000    -0.247000   \n",
       "75%      -0.147000     0.035250    -0.169000    -0.175000    -0.152000   \n",
       "max       0.336000     0.544000     0.144000     0.369000     0.318000   \n",
       "\n",
       "           smiling  \n",
       "count  4800.000000  \n",
       "mean      0.486458  \n",
       "std       0.499869  \n",
       "min       0.000000  \n",
       "25%       0.000000  \n",
       "50%       0.000000  \n",
       "75%       1.000000  \n",
       "max       1.000000  \n",
       "\n",
       "[8 rows x 137 columns]"
      ]
     },
     "execution_count": 7,
     "metadata": {},
     "output_type": "execute_result"
    }
   ],
   "source": [
    "# Load the dataset\n",
    "data_path_test = os.path.join(os.getcwd(), 'data', 'faces_test_data.csv')\n",
    "test = pd.read_csv(data_path_test, delimiter = ',')\n",
    "\n",
    "data_path_train = os.path.join(os.getcwd(), 'data', 'faces_train_data.csv')\n",
    "train = pd.read_csv(data_path_train, delimiter = ',')\n",
    "\n",
    "#full data without smiling column\n",
    "test_clean = test.copy(deep=True)\n",
    "test_clean=test_clean.drop('smiling', axis=1)\n",
    "train_clean = train.copy(deep=True)\n",
    "train_clean=train_clean.drop('smiling', axis=1)\n",
    "\n",
    "print('Number of  train samples: {}, number of train attributes: {}'.format(train.shape[0], train.shape[1]-1))\n",
    "print('Number of test samples: {}, number of test attributes: {}'.format(test.shape[0], test.shape[1]-1))\n",
    "\n",
    "train.describe()\n",
    "#print(train.shape, \"train\")\n",
    "#print(test.shape, \"test\")\n",
    "#print(test.head(3))\n",
    "#test"
   ]
  },
  {
   "cell_type": "code",
   "execution_count": 8,
   "metadata": {},
   "outputs": [
    {
     "name": "stderr",
     "output_type": "stream",
     "text": [
      "C:\\Users\\wotja\\miniconda3\\envs\\py3iaml\\lib\\site-packages\\ipykernel_launcher.py:12: FutureWarning: Method .as_matrix will be removed in a future version. Use .values instead.\n",
      "  if sys.path[0] == '':\n",
      "C:\\Users\\wotja\\miniconda3\\envs\\py3iaml\\lib\\site-packages\\ipykernel_launcher.py:13: FutureWarning: Method .as_matrix will be removed in a future version. Use .values instead.\n",
      "  del sys.path[0]\n"
     ]
    }
   ],
   "source": [
    "#split data into smiling and non smiling\n",
    "train_smile = train[train['smiling']==1]\n",
    "train_nsmile = train[train['smiling']==0]\n",
    "\n",
    "#split data without smiling column\n",
    "train_smile_clean = train_smile.copy(deep=True)\n",
    "train_smile_clean = train_smile_clean.drop('smiling', axis=1)\n",
    "\n",
    "train_nsmile_clean = train_nsmile.copy(deep=True)\n",
    "train_nsmile_clean = train_nsmile_clean.drop('smiling', axis=1)\n",
    "\n",
    "smile = train_nsmile_clean.as_matrix()\n",
    "nsmile = train_smile_clean.as_matrix()\n"
   ]
  },
  {
   "cell_type": "code",
   "execution_count": 9,
   "metadata": {},
   "outputs": [],
   "source": [
    "#3b.\n",
    "def avg(data):\n",
    "    noOfPoints = data.shape[1]/2\n",
    "\n",
    "    averages = []#list to hold average x and y coordinates for each attribute\n",
    "    for attribute in data:\n",
    "        rowAvg = []\n",
    "        xSum = 0\n",
    "        ySum = 0\n",
    "        for i in range(0,data.shape[1]):\n",
    "            if i % 2 == 0:\n",
    "                xSum += attribute[i]\n",
    "            if i % 2 == 1:\n",
    "                ySum += attribute[i]\n",
    "        xAvg = xSum / noOfPoints\n",
    "        yAvg = ySum / noOfPoints\n",
    "        rowAvg.append(xAvg)\n",
    "        rowAvg.append(yAvg)\n",
    "        averages.append(rowAvg)\n",
    "    return averages"
   ]
  },
  {
   "cell_type": "code",
   "execution_count": 10,
   "metadata": {},
   "outputs": [],
   "source": [
    "#3b.\n",
    "smile_avg = avg(smile)\n",
    "nsmile_avg = avg(nsmile)\n",
    "xs = []\n",
    "ys = []\n",
    "for entry in smile_avg:\n",
    "    xs.append(entry[0])\n",
    "    ys.append(entry[1])\n",
    "    \n",
    "xns = []\n",
    "yns = []\n",
    "for entry in nsmile_avg:\n",
    "    xns.append(entry[0])\n",
    "    yns.append(entry[1])"
   ]
  },
  {
   "cell_type": "code",
   "execution_count": 11,
   "metadata": {},
   "outputs": [
    {
     "data": {
      "text/plain": [
       "<matplotlib.legend.Legend at 0x251e33a59c8>"
      ]
     },
     "execution_count": 11,
     "metadata": {},
     "output_type": "execute_result"
    },
    {
     "data": {
      "image/png": "[encoded data removed]",
      "text/plain": [
       "<Figure size 432x288 with 1 Axes>"
      ]
     },
     "metadata": {
      "needs_background": "light"
     },
     "output_type": "display_data"
    }
   ],
   "source": [
    "#3b.\n",
    "plt.title('Average 2D coordinate')\n",
    "plt.xlabel('x')\n",
    "plt.ylabel('y')\n",
    "plt.scatter(xs, ys,s=5, label='Smiling')\n",
    "plt.scatter(xns, yns,s=5, label='Not Smiling')\n",
    "plt.legend()"
   ]
  },
  {
   "cell_type": "code",
   "execution_count": 7,
   "metadata": {},
   "outputs": [
    {
     "name": "stderr",
     "output_type": "stream",
     "text": [
      "C:\\Users\\wotja\\miniconda3\\envs\\py3iaml\\lib\\site-packages\\ipykernel_launcher.py:4: FutureWarning: Method .as_matrix will be removed in a future version. Use .values instead.\n",
      "  after removing the cwd from sys.path.\n"
     ]
    },
    {
     "name": "stdout",
     "output_type": "stream",
     "text": [
      "(4800, 2)\n",
      "(1200, 2)\n"
     ]
    },
    {
     "name": "stderr",
     "output_type": "stream",
     "text": [
      "C:\\Users\\wotja\\miniconda3\\envs\\py3iaml\\lib\\site-packages\\ipykernel_launcher.py:11: FutureWarning: Method .as_matrix will be removed in a future version. Use .values instead.\n",
      "  # This is added back by InteractiveShellApp.init_path()\n",
      "C:\\Users\\wotja\\miniconda3\\envs\\py3iaml\\lib\\site-packages\\ipykernel_launcher.py:29: FutureWarning: Method .as_matrix will be removed in a future version. Use .values instead.\n",
      "C:\\Users\\wotja\\miniconda3\\envs\\py3iaml\\lib\\site-packages\\ipykernel_launcher.py:30: FutureWarning: Method .as_matrix will be removed in a future version. Use .values instead.\n"
     ]
    }
   ],
   "source": [
    "#get avg coordinates of both smiling and non smiling together\n",
    "\n",
    "#x needs to be 2 x n dataset, y needs to be smiling column\n",
    "avgCoordTrain = avg(train_clean.as_matrix())\n",
    "Xtrain = []\n",
    "ytrain = []\n",
    "for entry in avgCoordTrain:\n",
    "    Xtrain.append(entry[0])\n",
    "    ytrain.append(entry[1])\n",
    "    \n",
    "avgCoordTest = avg(test_clean.as_matrix())\n",
    "Xtest = []\n",
    "ytest = []\n",
    "for entry in avgCoordTest:\n",
    "    Xtest.append(entry[0])\n",
    "    ytest.append(entry[1])\n",
    "\n",
    "Xtrain = np.asarray(Xtrain).reshape(-1,1)\n",
    "ytrain = np.asarray(ytrain).reshape(-1,1)\n",
    "Xtest = np.asarray(Xtest).reshape(-1,1)\n",
    "ytest = np.asarray(ytest).reshape(-1,1)\n",
    "\n",
    "Xtrain = np.hstack((Xtrain, ytrain))\n",
    "Xtest = np.hstack((Xtest, ytest))\n",
    "\n",
    "print(Xtrain.shape)\n",
    "print(Xtest.shape)\n",
    "\n",
    "tgtTrain = train['smiling'].as_matrix() # Target vector\n",
    "tgtTest = test['smiling'].as_matrix() # Target vector"
   ]
  },
  {
   "cell_type": "code",
   "execution_count": 8,
   "metadata": {},
   "outputs": [
    {
     "name": "stdout",
     "output_type": "stream",
     "text": [
      "Classification accuracy on training set: 0.795 with tree depth 2\n",
      "Classification accuracy on test set: 0.782 with tree depth 2\n",
      "Classification accuracy on training set: 0.934 with tree depth 8\n",
      "Classification accuracy on test set: 0.841 with tree depth 8\n",
      "Classification accuracy on training set: 1.000 with tree depth 20\n",
      "Classification accuracy on test set: 0.816 with tree depth 20\n"
     ]
    }
   ],
   "source": [
    "#3e.\n",
    "depths=[2,8,20]\n",
    "for depth in depths:\n",
    "    dt = DecisionTreeClassifier(max_depth=depth, random_state=2001)\n",
    "    dt.fit(train_clean, tgtTrain)\n",
    "    predict_train = dt.predict(X=train_clean)\n",
    "    predict_test = dt.predict(X=test_clean)\n",
    "    print('Classification accuracy on training set: {:.3f} with tree depth {}'.format(accuracy_score(tgtTrain,predict_train),depth))\n",
    "    print('Classification accuracy on test set: {:.3f} with tree depth {}'.format(accuracy_score(tgtTest,predict_test),depth))"
   ]
  },
  {
   "cell_type": "code",
   "execution_count": 87,
   "metadata": {},
   "outputs": [
    {
     "name": "stdout",
     "output_type": "stream",
     "text": [
      "[100  97  59]\n",
      "[0.33040484928175073, 0.08995881431599788, 0.08831447209293988]\n"
     ]
    },
    {
     "data": {
      "text/plain": [
       "0      -0.183\n",
       "1      -0.218\n",
       "2      -0.228\n",
       "3      -0.243\n",
       "4      -0.165\n",
       "5      -0.238\n",
       "6      -0.251\n",
       "7      -0.102\n",
       "8      -0.180\n",
       "9      -0.225\n",
       "10     -0.209\n",
       "11     -0.148\n",
       "12     -0.218\n",
       "13     -0.201\n",
       "14     -0.266\n",
       "15     -0.144\n",
       "16     -0.279\n",
       "17     -0.260\n",
       "18     -0.208\n",
       "19     -0.179\n",
       "20     -0.220\n",
       "21     -0.226\n",
       "22     -0.170\n",
       "23     -0.201\n",
       "24     -0.250\n",
       "25     -0.187\n",
       "26     -0.196\n",
       "27     -0.228\n",
       "28     -0.150\n",
       "29     -0.201\n",
       "        ...  \n",
       "4770   -0.172\n",
       "4771   -0.191\n",
       "4772   -0.200\n",
       "4773   -0.191\n",
       "4774   -0.251\n",
       "4775   -0.142\n",
       "4776   -0.212\n",
       "4777   -0.159\n",
       "4778   -0.205\n",
       "4779   -0.208\n",
       "4780   -0.284\n",
       "4781   -0.295\n",
       "4782   -0.179\n",
       "4783   -0.150\n",
       "4784   -0.176\n",
       "4785   -0.203\n",
       "4786   -0.192\n",
       "4787   -0.106\n",
       "4788   -0.189\n",
       "4789   -0.189\n",
       "4790   -0.059\n",
       "4791   -0.207\n",
       "4792   -0.262\n",
       "4793   -0.177\n",
       "4794   -0.122\n",
       "4795   -0.214\n",
       "4796   -0.131\n",
       "4797   -0.193\n",
       "4798   -0.173\n",
       "4799   -0.197\n",
       "Name: x50, Length: 4800, dtype: float64"
      ]
     },
     "execution_count": 87,
     "metadata": {},
     "output_type": "execute_result"
    }
   ],
   "source": [
    "#3f\n",
    "dtm = DecisionTreeClassifier(max_depth=8, random_state=2001)\n",
    "dtm.fit(train_clean, tgtTrain)\n",
    "importance = dtm.feature_importances_\n",
    "#for i,v in enumerate(importance):\n",
    "    #print('Feature: %0d, Score: %.5f' % (i,v))\n",
    "top_3_idx = np.argsort(importance)[-3:]\n",
    "top_3_values = [importance[i] for i in top_3_idx]\n",
    "print(top_3_idx[::-1])\n",
    "print(top_3_values[::-1])\n",
    "\n",
    "#train_clean\n",
    "x50 = train_clean['x50']\n",
    "x50\n",
    "\n"
   ]
  },
  {
   "cell_type": "markdown",
   "metadata": {},
   "source": [
    "# Question 4"
   ]
  },
  {
   "cell_type": "code",
   "execution_count": 12,
   "metadata": {},
   "outputs": [
    {
     "data": {
      "text/plain": [
       "(1000, 5)"
      ]
     },
     "execution_count": 12,
     "metadata": {},
     "output_type": "execute_result"
    }
   ],
   "source": [
    "evl_path = os.path.join(os.getcwd(), 'data', 'classification_eval_1.csv')\n",
    "evl = pd.read_csv(evl_path, delimiter = ',')\n",
    "evl.shape"
   ]
  },
  {
   "cell_type": "code",
   "execution_count": 13,
   "metadata": {},
   "outputs": [
    {
     "data": {
      "text/html": [
       "<div>\n",
       "<style scoped>\n",
       "    .dataframe tbody tr th:only-of-type {\n",
       "        vertical-align: middle;\n",
       "    }\n",
       "\n",
       "    .dataframe tbody tr th {\n",
       "        vertical-align: top;\n",
       "    }\n",
       "\n",
       "    .dataframe thead th {\n",
       "        text-align: right;\n",
       "    }\n",
       "</style>\n",
       "<table border=\"1\" class=\"dataframe\">\n",
       "  <thead>\n",
       "    <tr style=\"text-align: right;\">\n",
       "      <th></th>\n",
       "      <th>gt</th>\n",
       "      <th>alg_1</th>\n",
       "      <th>alg_2</th>\n",
       "      <th>alg_3</th>\n",
       "      <th>alg_4</th>\n",
       "    </tr>\n",
       "  </thead>\n",
       "  <tbody>\n",
       "    <tr>\n",
       "      <th>0</th>\n",
       "      <td>0</td>\n",
       "      <td>0.051302</td>\n",
       "      <td>0.000000</td>\n",
       "      <td>0.821882</td>\n",
       "      <td>0.705028</td>\n",
       "    </tr>\n",
       "    <tr>\n",
       "      <th>1</th>\n",
       "      <td>0</td>\n",
       "      <td>0.695441</td>\n",
       "      <td>1.000000</td>\n",
       "      <td>1.000000</td>\n",
       "      <td>0.741789</td>\n",
       "    </tr>\n",
       "    <tr>\n",
       "      <th>2</th>\n",
       "      <td>1</td>\n",
       "      <td>0.471121</td>\n",
       "      <td>0.913034</td>\n",
       "      <td>0.000000</td>\n",
       "      <td>1.000000</td>\n",
       "    </tr>\n",
       "    <tr>\n",
       "      <th>3</th>\n",
       "      <td>1</td>\n",
       "      <td>1.000000</td>\n",
       "      <td>1.000000</td>\n",
       "      <td>0.000000</td>\n",
       "      <td>1.000000</td>\n",
       "    </tr>\n",
       "    <tr>\n",
       "      <th>4</th>\n",
       "      <td>0</td>\n",
       "      <td>0.857339</td>\n",
       "      <td>0.000000</td>\n",
       "      <td>0.296797</td>\n",
       "      <td>0.809736</td>\n",
       "    </tr>\n",
       "  </tbody>\n",
       "</table>\n",
       "</div>"
      ],
      "text/plain": [
       "   gt     alg_1     alg_2     alg_3     alg_4\n",
       "0   0  0.051302  0.000000  0.821882  0.705028\n",
       "1   0  0.695441  1.000000  1.000000  0.741789\n",
       "2   1  0.471121  0.913034  0.000000  1.000000\n",
       "3   1  1.000000  1.000000  0.000000  1.000000\n",
       "4   0  0.857339  0.000000  0.296797  0.809736"
      ]
     },
     "execution_count": 13,
     "metadata": {},
     "output_type": "execute_result"
    }
   ],
   "source": [
    "evl.head(5)"
   ]
  },
  {
   "cell_type": "code",
   "execution_count": 14,
   "metadata": {},
   "outputs": [
    {
     "data": {
      "text/html": [
       "<div>\n",
       "<style scoped>\n",
       "    .dataframe tbody tr th:only-of-type {\n",
       "        vertical-align: middle;\n",
       "    }\n",
       "\n",
       "    .dataframe tbody tr th {\n",
       "        vertical-align: top;\n",
       "    }\n",
       "\n",
       "    .dataframe thead th {\n",
       "        text-align: right;\n",
       "    }\n",
       "</style>\n",
       "<table border=\"1\" class=\"dataframe\">\n",
       "  <thead>\n",
       "    <tr style=\"text-align: right;\">\n",
       "      <th></th>\n",
       "      <th>alg_1</th>\n",
       "      <th>alg_2</th>\n",
       "      <th>alg_3</th>\n",
       "      <th>alg_4</th>\n",
       "    </tr>\n",
       "  </thead>\n",
       "  <tbody>\n",
       "    <tr>\n",
       "      <th>0</th>\n",
       "      <td>0.051302</td>\n",
       "      <td>0.000000</td>\n",
       "      <td>0.821882</td>\n",
       "      <td>0.705028</td>\n",
       "    </tr>\n",
       "    <tr>\n",
       "      <th>1</th>\n",
       "      <td>0.695441</td>\n",
       "      <td>1.000000</td>\n",
       "      <td>1.000000</td>\n",
       "      <td>0.741789</td>\n",
       "    </tr>\n",
       "    <tr>\n",
       "      <th>2</th>\n",
       "      <td>0.471121</td>\n",
       "      <td>0.913034</td>\n",
       "      <td>0.000000</td>\n",
       "      <td>1.000000</td>\n",
       "    </tr>\n",
       "    <tr>\n",
       "      <th>3</th>\n",
       "      <td>1.000000</td>\n",
       "      <td>1.000000</td>\n",
       "      <td>0.000000</td>\n",
       "      <td>1.000000</td>\n",
       "    </tr>\n",
       "    <tr>\n",
       "      <th>4</th>\n",
       "      <td>0.857339</td>\n",
       "      <td>0.000000</td>\n",
       "      <td>0.296797</td>\n",
       "      <td>0.809736</td>\n",
       "    </tr>\n",
       "    <tr>\n",
       "      <th>5</th>\n",
       "      <td>1.000000</td>\n",
       "      <td>0.000000</td>\n",
       "      <td>0.493186</td>\n",
       "      <td>0.769017</td>\n",
       "    </tr>\n",
       "    <tr>\n",
       "      <th>6</th>\n",
       "      <td>0.897370</td>\n",
       "      <td>1.000000</td>\n",
       "      <td>0.261861</td>\n",
       "      <td>0.987711</td>\n",
       "    </tr>\n",
       "    <tr>\n",
       "      <th>7</th>\n",
       "      <td>0.236050</td>\n",
       "      <td>1.000000</td>\n",
       "      <td>0.687067</td>\n",
       "      <td>0.826789</td>\n",
       "    </tr>\n",
       "    <tr>\n",
       "      <th>8</th>\n",
       "      <td>0.219094</td>\n",
       "      <td>0.131004</td>\n",
       "      <td>0.502369</td>\n",
       "      <td>0.712532</td>\n",
       "    </tr>\n",
       "    <tr>\n",
       "      <th>9</th>\n",
       "      <td>0.000000</td>\n",
       "      <td>1.000000</td>\n",
       "      <td>1.000000</td>\n",
       "      <td>0.407349</td>\n",
       "    </tr>\n",
       "  </tbody>\n",
       "</table>\n",
       "</div>"
      ],
      "text/plain": [
       "      alg_1     alg_2     alg_3     alg_4\n",
       "0  0.051302  0.000000  0.821882  0.705028\n",
       "1  0.695441  1.000000  1.000000  0.741789\n",
       "2  0.471121  0.913034  0.000000  1.000000\n",
       "3  1.000000  1.000000  0.000000  1.000000\n",
       "4  0.857339  0.000000  0.296797  0.809736\n",
       "5  1.000000  0.000000  0.493186  0.769017\n",
       "6  0.897370  1.000000  0.261861  0.987711\n",
       "7  0.236050  1.000000  0.687067  0.826789\n",
       "8  0.219094  0.131004  0.502369  0.712532\n",
       "9  0.000000  1.000000  1.000000  0.407349"
      ]
     },
     "execution_count": 14,
     "metadata": {},
     "output_type": "execute_result"
    }
   ],
   "source": [
    "gt = evl['gt'] #separate ground truth labels from data set\n",
    "evl_clean = evl.copy(deep=True)\n",
    "evl_clean = evl.drop('gt', axis=1)\n",
    "evl_clean.head(10)"
   ]
  },
  {
   "cell_type": "code",
   "execution_count": 15,
   "metadata": {},
   "outputs": [
    {
     "name": "stderr",
     "output_type": "stream",
     "text": [
      "C:\\Users\\wotja\\miniconda3\\envs\\py3iaml\\lib\\site-packages\\ipykernel_launcher.py:2: FutureWarning: Method .as_matrix will be removed in a future version. Use .values instead.\n",
      "  \n"
     ]
    },
    {
     "data": {
      "text/plain": [
       "array([[0, 0, 1, 1],\n",
       "       [1, 1, 1, 1],\n",
       "       [0, 1, 0, 1],\n",
       "       ...,\n",
       "       [1, 0, 0, 1],\n",
       "       [0, 1, 0, 1],\n",
       "       [0, 0, 1, 1]])"
      ]
     },
     "execution_count": 15,
     "metadata": {},
     "output_type": "execute_result"
    }
   ],
   "source": [
    "#for each algo go through each value and if its >=0.5 == 1 else 0. then compare accuracy\n",
    "ev = evl_clean.as_matrix()\n",
    "ev = np.where(ev >= 0.5, 1, 0)\n",
    "ev"
   ]
  },
  {
   "cell_type": "code",
   "execution_count": 16,
   "metadata": {},
   "outputs": [
    {
     "name": "stdout",
     "output_type": "stream",
     "text": [
      "Classification accuracy of alg1: 0.616\n",
      "Classification accuracy of alg2: 0.550\n",
      "Classification accuracy of alg3: 0.321\n",
      "Classification accuracy of alg4: 0.329\n"
     ]
    }
   ],
   "source": [
    "#make each column its own list to better separate algos\n",
    "algs = np.transpose(ev)\n",
    "alg1 = algs[0]\n",
    "alg2 = algs[1]\n",
    "alg3 = algs[2]\n",
    "alg4 = algs[3]\n",
    "\n",
    "print('Classification accuracy of alg1: {:.3f}'.format(accuracy_score(gt,alg1)))\n",
    "print('Classification accuracy of alg2: {:.3f}'.format(accuracy_score(gt,alg2)))\n",
    "print('Classification accuracy of alg3: {:.3f}'.format(accuracy_score(gt,alg3)))\n",
    "print('Classification accuracy of alg4: {:.3f}'.format(accuracy_score(gt,alg4)))\n",
    "\n",
    "\n"
   ]
  },
  {
   "cell_type": "code",
   "execution_count": 17,
   "metadata": {},
   "outputs": [
    {
     "name": "stdout",
     "output_type": "stream",
     "text": [
      "Area under curve for alg1: 0.732\n",
      "Area under curve for alg2: 0.632\n",
      "Area under curve for alg3: 0.064\n",
      "Area under curve for alg4: 0.847\n"
     ]
    },
    {
     "name": "stderr",
     "output_type": "stream",
     "text": [
      "C:\\Users\\wotja\\miniconda3\\envs\\py3iaml\\lib\\site-packages\\ipykernel_launcher.py:3: FutureWarning: Method .as_matrix will be removed in a future version. Use .values instead.\n",
      "  This is separate from the ipykernel package so we can avoid doing imports until\n"
     ]
    }
   ],
   "source": [
    "from sklearn.metrics import roc_auc_score, roc_curve\n",
    "\n",
    "auc = np.transpose(evl_clean.as_matrix())\n",
    "auc.shape\n",
    "auc1 = roc_auc_score(gt,auc[0]) #or do i use alg1\n",
    "auc2 = roc_auc_score(gt,auc[1])\n",
    "auc3 = roc_auc_score(gt,auc[2])\n",
    "auc4 = roc_auc_score(gt,auc[3])\n",
    "print('Area under curve for alg1: {:.3f}'.format(auc1))\n",
    "print('Area under curve for alg2: {:.3f}'.format(auc2))\n",
    "print('Area under curve for alg3: {:.3f}'.format(auc3))\n",
    "print('Area under curve for alg4: {:.3f}'.format(auc4))\n",
    "\n"
   ]
  },
  {
   "cell_type": "code",
   "execution_count": 19,
   "metadata": {},
   "outputs": [
    {
     "data": {
      "text/plain": [
       "<matplotlib.legend.Legend at 0x251e3393888>"
      ]
     },
     "execution_count": 19,
     "metadata": {},
     "output_type": "execute_result"
    },
    {
     "data": {
      "image/png": "[encoded data removed]",
      "text/plain": [
       "<Figure size 432x288 with 1 Axes>"
      ]
     },
     "metadata": {
      "needs_background": "light"
     },
     "output_type": "display_data"
    }
   ],
   "source": [
    "fpr1, tpr1, thresholds1 = roc_curve(gt, alg1)\n",
    "plt.plot(fpr1, tpr1, label='alg1 ROC curve')\n",
    "\n",
    "fpr2, tpr2, thresholds2 = roc_curve(gt, alg2)\n",
    "plt.plot(fpr2, tpr2, label='alg2 ROC curve')\n",
    "\n",
    "fpr3, tpr3, thresholds3 = roc_curve(gt, alg3)\n",
    "plt.plot(fpr3, tpr3, label='alg3 ROC curve')\n",
    "\n",
    "fpr4, tpr4, thresholds4 = roc_curve(gt, alg4)\n",
    "plt.plot(fpr4, tpr4, label='alg4 ROC curve')\n",
    "\n",
    "plt.xlim([-0.015, 1.015])\n",
    "plt.ylim([-0.015, 1.015])\n",
    "plt.xlabel('False Positive Rate')\n",
    "plt.ylabel('True Positive Rate')\n",
    "plt.title('ROC Curves')\n",
    "plt.legend()\n",
    "\n"
   ]
  },
  {
   "cell_type": "code",
   "execution_count": null,
   "metadata": {},
   "outputs": [],
   "source": []
  }
 ],
 "metadata": {
  "kernelspec": {
   "display_name": "Python 3",
   "language": "python",
   "name": "python3"
  },
  "language_info": {
   "codemirror_mode": {
    "name": "ipython",
    "version": 3
   },
   "file_extension": ".py",
   "mimetype": "text/x-python",
   "name": "python",
   "nbconvert_exporter": "python",
   "pygments_lexer": "ipython3",
   "version": "3.7.9"
  }
 },
 "nbformat": 4,
 "nbformat_minor": 4
}
